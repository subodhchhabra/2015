{
 "cells": [
  {
   "cell_type": "markdown",
   "metadata": {},
   "source": [
    "# Lecture 12: More on Hierarchical Bayes and Gibbs Sampling\n",
    "AM207: Verena Kaynig-Fittkau,and Pavlos Protopapas, Harvard University\n"
   ]
  },
  {
   "cell_type": "markdown",
   "metadata": {},
   "source": [
    "# Announcements\n",
    "\n",
    "### Final Project Schedule:\n",
    "- March 27 -- April 06: Talk to TFs and come up with a proposal\n",
    "- April 7: Proposals are due\n",
    "- April 29: Submit your project notebook/paper (6 pages)\n",
    "- May 4: Submit your poster and screencast (3min), and optional: webpage\n",
    "- May 6: Show off at SEAS Science Fair"
   ]
  },
  {
   "cell_type": "markdown",
   "metadata": {},
   "source": [
    "### Time to start thinking about your final project!\n",
    "\n",
    "- start looking for team members (Piazza, friendly faces in the lecture)\n",
    "\n",
    "\n",
    "### Some topics from last year:\n",
    "- Predicting Basketball Game Outcomes\n",
    "- An importance sampling procedure for estimating crop yield\n",
    "- Simulated Annealing to Optimize Taxi Cab Routes\n",
    "- Modeling and Simulating Political Violence and Optimizing Aid Distribution in Uganda \n",
    "- Genetic Programming for the Computational Discovery of Trading Rules\n",
    "- Metropolis Sampling and the Ising Model\n",
    "- Get the most out of Disney World!\n",
    "- Simulating Market Outcomes and the Influence of Economic Policies\n",
    "- Modeling MH370 with a Markov Chain Monte Carlo Model and a Hidden Markov Model \n",
    "- Stochastic Methods for Solving Partially-Completed Crossword Puzzles\n",
    "- Teaching Computers the Rules of Counterpoint: Synthesizing Classical Music using the Genetic Algorithm\n",
    "- Bayesian calibration of competing estuarine sediment transport models: Exploring equifinality\n",
    "- A Bayesian machine-learning approach in improving multiple-choices questions.\n",
    "- U.S. K-12 Education and Probabilistic Graphical Models\n",
    "- Simulated Annealing for Learning Hyperparameters of Log-Gaussian Dirichlet Model\n",
    "- Statistical Arbitrage in U.S Equity Market\n",
    "- Optimal Placement of Bike Lane in Somerville\n",
    "- Optical property reconstruction using simulated annealing\n",
    "- Substructure Optimization in Spatial Reduction Models\n",
    "- Using Gaussian processes to predict US temperatures\n",
    "- Alternative Interpretations of Prediction Markets\n",
    "- Monte Carlo methods for improved rendering \n",
    "- Bayesian Spatial Sequential Experimental Design on Log-Gaussian Cox Process\n",
    "- Student Schedule Optimization with Stochastic Methods \n",
    "- Applications of the Hough Transform for Detecting Moving Objects in Astronomical Data"
   ]
  },
  {
   "cell_type": "markdown",
   "metadata": {},
   "source": [
    "For the rest of the lecture, please look at the [notebook](http://nbviewer.ipython.org/github/AM207/2015/blob/master/Lectures/Lecture10_More_Gibbs_Slides.ipynb) from lecture 10 and the rat tumor example."
   ]
  },
  {
   "cell_type": "code",
   "execution_count": null,
   "metadata": {
    "collapsed": false
   },
   "outputs": [],
   "source": []
  }
 ],
 "metadata": {
  "kernelspec": {
   "display_name": "Python 2",
   "language": "python",
   "name": "python2"
  },
  "language_info": {
   "codemirror_mode": {
    "name": "ipython",
    "version": 2
   },
   "file_extension": ".py",
   "mimetype": "text/x-python",
   "name": "python",
   "nbconvert_exporter": "python",
   "pygments_lexer": "ipython2",
   "version": "2.7.6"
  }
 },
 "nbformat": 4,
 "nbformat_minor": 0
}
