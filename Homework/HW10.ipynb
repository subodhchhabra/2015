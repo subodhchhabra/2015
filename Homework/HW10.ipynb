{
 "cells": [
  {
   "cell_type": "markdown",
   "metadata": {},
   "source": [
    "# **AM 207**: Homework 10"
   ]
  },
  {
   "cell_type": "markdown",
   "metadata": {},
   "source": [
    "_ _ _ _ _\n",
    "\n",
    "Verena Kaynig-Fittkau & Pavlos Protopapas <br>\n",
    "Handed out: Thursday, April 16th, 2015<br>\n",
    "Due: 11.59 P.M. Thursday April 23rd, 2015\n",
    "\n",
    "**Instructions**:\n",
    "\n",
    "+ Upload your answers in an ipython notebook to the dropbox.\n",
    "\n",
    "+ Your individual submissions use the following filenames: AM207_YOURNAME_HM10.ipynb\n",
    "\n",
    "+ Your code should be in code cells as part of your ipython notebook. Do not use a different language (or format) unless you get permission from the TFs. If you use any special libraries you must include them with your code (program should run as is). \n",
    "\n",
    "+ If you have multiple files (e.g. you've added code files and images) create a tarball for all files in a single file and name it: AM207_YOURNAME_HM10.tar or AM207_YOURNAME_HW10.zip\n",
    "\n",
    "+ Please remember that your solution should be a report! We would like some explanations of your ideas, and ways to approach the solution. Also please comment your code.\n",
    "_ _ _ _ _"
   ]
  },
  {
   "cell_type": "markdown",
   "metadata": {},
   "source": [
    "Every night a drunken pixie jumps from the window of a high tower and tries to fly home. Fascinated by this behavior, you try to model the height of the pixies flight relative to the tower window with a Gaussian Process. You hire a troll to operate a large wooden wall covered with honey. You measure the elevation height of the pixie at a specific distance by letting it crush into the wall and reading the height of the pixie sticking to the honey from a measurementn tape fixed to the wall. The pixie seems to not mind this process, as it likes honey and always comes back the next night. You can see the wall for up to 18 meters away from your tower, then a mystical mist prevents you from seeing anything. \n",
    "\n",
    "You want to design an experiment to observe $N$ points, and make predictions about the pixie flight at $100$ locations evenly spaced on $[0,18]$ using Gaussian Processes. Here are three strategies you can use:\n",
    "\n",
    "(1) uniformly sample $N$ points from the interval $[0, 18]$\n",
    "\n",
    "(2) select evenly spaced $N$ points on the interval $[0, 18]$\n",
    "\n",
    "(3) start from the the end point $18$ and sequentially add the point with the largest prediction confidence interval (largest uncertainty). If there are ties, choose the first point you encounter from the right.\n",
    "\n",
    "The pixie flight function is: $$f(x) = x sin(x)+\\mathcal{N}(\\mu = 0, \\sigma= 0.1x + 1)$$ defined on $[0, 18]$. As you can see the noise increases with the distance from the tower, because you get worse at reading the measurement tape. You are very aware of your limitations though and this enables you to actually know the noise distribution of your measurements. \n",
    "\n",
    "We use a homogeneous covariance function: an exponential kernel defined below with parameters 5, 10.\n",
    "\n",
    "    def exponential_kernel(x_1, x_2, params): \n",
    "        return params[0] * np.exp( -0.5 * params[1] * np.sum((x_1 - x_2)**2) )\n",
    "    \n",
    "Assume that the standard deviations at the $100$ predicted points are $\\boldsymbol{\\sigma} = (\\sigma_1,\\ldots,\\sigma_{100})$. We evaluate the goodness of the predictions based on three criterions: \n",
    "\n",
    "(i) sample mean $\\bar{\\sigma} = \\sum_{i=1}^{100}\\sigma_i / 100$, which characterizes the variability on average; \n",
    "\n",
    "(ii) the maximum value $\\max\\{\\sigma\\}= \\max_{1\\leq i\\leq 100}\\sigma_i$, which characterizes the maximum risk;\n",
    "\n",
    "(iii) mean squared-prediction-error defined as\n",
    "$$SSE = \\frac{1}{100}\\sum_{i=1}^{100} (f_{true}(x_i) - \\hat{f}(x_i))^2,$$\n",
    "\n",
    "where $f_{true}(x) = x sin(x)$ is the truth without noise, $\\hat{f}(x_i)$ is the predicted mean value at position $x_i$ based on the Gaussian process.\n",
    "\n",
    "(a) Please conduct simulation experiments with $N=20$ for the three strategies above. Which strategy performs best for which criterion? Discuss your results.  \n",
    "\n",
    "(b) If you increase $N$ or decrease $N$, how does the $\\bar{\\sigma}$, $\\max\\{\\sigma\\}$ and $SSE$ change? Which strategy do you find is the most robust to the number of points, $N$, that you observe?\n",
    "\n",
    "Hint: The pixie is going to be very sad if you do not provide standard deviations for your evaluations. \n",
    "\n",
    "Totally optional for fun:\n",
    "- Think about the kernel parameters and if and how you would change them\n",
    "- Instead of trying to fit the whole function, use GP to find the maximum while trying to minimize the number of wall crashes for the pixie. You can use Thompson sampling, probability of imrovement or also expected improvement and compare the different strategies. "
   ]
  },
  {
   "cell_type": "code",
   "execution_count": 1,
   "metadata": {
    "collapsed": true
   },
   "outputs": [],
   "source": [
    "import numpy as np\n",
    "import matplotlib.pyplot as plt\n",
    "%matplotlib inline\n",
    "import seaborn as sns\n",
    "sns.set_style('white')\n",
    "from IPython import display\n",
    "import time"
   ]
  },
  {
   "cell_type": "code",
   "execution_count": null,
   "metadata": {
    "collapsed": true
   },
   "outputs": [],
   "source": []
  }
 ],
 "metadata": {
  "kernelspec": {
   "display_name": "Python 2",
   "language": "python",
   "name": "python2"
  },
  "language_info": {
   "codemirror_mode": {
    "name": "ipython",
    "version": 2
   },
   "file_extension": ".py",
   "mimetype": "text/x-python",
   "name": "python",
   "nbconvert_exporter": "python",
   "pygments_lexer": "ipython2",
   "version": "2.7.6"
  }
 },
 "nbformat": 4,
 "nbformat_minor": 0
}
