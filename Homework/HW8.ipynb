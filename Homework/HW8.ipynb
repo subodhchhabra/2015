{
 "cells": [
  {
   "cell_type": "markdown",
   "metadata": {},
   "source": [
    "# **AM 207**: Homework 8"
   ]
  },
  {
   "cell_type": "markdown",
   "metadata": {},
   "source": [
    "_ _ _ _ _\n",
    "\n",
    "Verena Kaynig-Fittkau & Pavlos Protopapas <br>\n",
    "Handed out: Wednesday, April 1, 2015<br>\n",
    "Due: 11.59 P.M. Wednesday, April 8, 2015<br>\n",
    "\n",
    "**Instructions**:\n",
    "\n",
    "+ Upload your answers in an ipython notebook to the dropbox.\n",
    "\n",
    "+ Your individual submissions use the following filenames: AM207_YOURNAME_HW8.ipynb\n",
    "\n",
    "+ Your code should be in code cells as part of your ipython notebook. Do not use a different language (or format) unless you get permission from the TFs. If you use any special libraries you must include them with your code (program should run as is). \n",
    "\n",
    "+ If you have multiple files (e.g. you've added code files and images) create a tarball for all files in a single file and name it: AM207_YOURNAME_HW8.tar or AM207_YOURNAME_HW8.zip\n",
    "\n",
    "+ Please remember that your solution should be a report! We would like some explanations of your ideas, and ways to approach the solution. Also please comment your code.\n",
    "_ _ _ _ _"
   ]
  },
  {
   "cell_type": "code",
   "execution_count": 1,
   "metadata": {
    "collapsed": false
   },
   "outputs": [],
   "source": [
    "%matplotlib inline\n",
    "import numpy as np\n",
    "import scipy as sp\n",
    "import matplotlib.pyplot as plt\n",
    "import pandas as pd\n",
    "import random\n",
    "import math\n",
    "import time\n",
    "import seaborn as sns\n",
    "#sns.set_style('white')\n",
    "#sns.set_context('paper')"
   ]
  },
  {
   "cell_type": "markdown",
   "metadata": {
    "collapsed": false
   },
   "source": [
    "## Question 1: Anxious Accountant\n",
    "\n",
    "Assume that there are $N$ chain stores that are located at different places, labeled $1, 2, \\ldots, N$; let $x_1,\\ldots, x_N$ denote the locations. The total cost of transporting goods across all the stores every month is defined as\n",
    "$$O = \\sum_{i\\neq j} f_{ij} d(x_i, x_j),$$\n",
    "where $f_{ij}$ is the flow between store $i$ and store $j$. The store locations are designed such that the flow between store $i$ and store $j$ is inversely proportional to the distances between store $i$ and store $j$, i.e.\n",
    "$$f_{ij} \\propto 1/ d(x_i, x_j),$$\n",
    "where $d(x_i, x_j)$ is the Euclidean distance between stores $i$ and $j$. Therefore the total cost of transporting goods is $O=\\sum_{i\\neq j} 1 = N(N-1)$, which results in a constant budget for transporting goods across stores every month. However, the careless accountant lost track of the labels of the stores, he is worried about being fired and thus decided not to tell the boss about this. His strategy is to randomly label the stores and use $f_{ij}$ as the flow between stores $i$ and $j$ in his labeling. Given a random permutation $\\delta(\\cdot)$ of the labels of the stores, the total cost becomes:\n",
    "$$O = \\sum_{i\\neq j} f_{ij} d(x_{\\delta(i)}, x_{\\delta(j)}).$$\n",
    "However, a simple calculation tells him that under many permutations, the total cost for transportation can be so large that a much higher budget for transportation is needed. How can the boss not discover such a sudden increase of the budget? Assume that the accountant comes to you and asks you to design a permutation such that the total cost is as small as possible, ideally to recover the true labels. You decide to try and help him using simulated annealing. \n",
    "\n",
    "Now, you want to use some simulation studies to see if you can help him figure out the problem.\n",
    "\n",
    "(1) Assume that $N=5$, the stores are located on a real line.\n",
    "\n",
    "(2) Assume that $N=10$, the stores are located on a two-dimensional space.\n",
    "\n",
    "(3) Assume that $N=10$, the stores are located on the three-dimensional space.\n",
    "\n",
    "In each of the scenarios above, how hard do you find it to figure out the correct solution, or a solution that is close?\n",
    "\n",
    "Hint: here is the simulation set-up.\n",
    "1. simulate N locations $x_1,\\ldots, x_N$ in $\\mathbb{R}^d$ where $d=1,2,3$ in (1), (2), (3);\n",
    "2. simulate a 'true permutation' $\\delta_{true}$, e.g. $2,4,1,3,0,5$ when $N=6$;\n",
    "3. calculate the matrix for the flow $F=[f_{ij}]$ as follows: permuate the locations $(x_1,\\ldots, x_N)$ according to $\\delta_{true}$ and calculate the pairwise distance of the permuted locations, taking element-wise inverse of this distance matrix gives $F$;\n",
    "4. assume that you do not know the true permutation $\\delta_{true}$, taking $(x_1,\\ldots, x_N)$ and $F$ as input, try to find the permuation that minimizes the cost. \n",
    "\n",
    "[A simpler simulation: Note that if you do not simulate a true permutation and instead directly calculate the pairwise distance and flow matrix, the true permutation is actually the identity.]\n",
    "\n",
    "Optional: To get a better feel for simulated annealing, increase N and play a bit around with different parameters. What are your observations? "
   ]
  },
  {
   "cell_type": "markdown",
   "metadata": {},
   "source": [
    "## Question 2: Busy  Bond\n",
    "\n",
    "M assigns James Bond a secret mission to help save a very important person. To protect the person, M sends James Bond three noisy images of the person's name through different channels. James Bond decides to recover the secret  person's name by statistical inference so he comes to you for help. \n",
    "\n",
    "You can find the three noisy images as $35 \\times 105$ binary matrices with values 0 and 1 in the files \"secret_1.csv\", \"secret_2.csv\", and \"secret_3.csv\". Suppose $Y^{(k)}$ represents the matrix of the noisy image number $k$, and $X$ represents the matrix of the real image you want to recover. $X_i$ and $Y_i^{(k)}$ is the value of the $i$th pixel. \n",
    "\n",
    "To solve the problem in a more statistical way, you  model $X$ with the following distribution (inspired by the Ising model):\n",
    "\n",
    "$$\\pi(X|Y) \\propto \\exp(\\sum_{i,k}  I[X_i=Y_i^{(k)}] + \\beta \\sum_{j\\sim i}  I[X_i=X_j]).$$\n",
    "\n",
    "Here, $j\\sim i$ means the $j$th pixel is in the neighborhood of the $i$th pixel and the neighborhood is defined as the 8 vertical, horizontal and diagonal adjacencies of each pixel.\n",
    "\n",
    "(a) Use a Metropolis-Hasting algorithm to sample from $\\pi(X|Y)$ and recover the image by averaging samples from the distribution. How would you choose the proposal distribution? Try different values for $0 < \\beta < 1.0$ and how they influence the result. Pick the one that you like best and give a short comment why. Please write down the details of the algorithm and run it. \n",
    "\n",
    "(b) To impress James Bond, you decide to also implement parallel tempering to solve the problem. Please explain and comment your implementation and run the algorithm. How does your parallel tempering implementation compare to standard Metropolis-Hastings? Commment on your choices for the number of chains and temperatures. \n",
    "\n",
    "(c) Who is the important person? Please help James Bond save the world!"
   ]
  },
  {
   "cell_type": "code",
   "execution_count": null,
   "metadata": {
    "collapsed": true
   },
   "outputs": [],
   "source": []
  }
 ],
 "metadata": {
  "kernelspec": {
   "display_name": "Python 2",
   "language": "python",
   "name": "python2"
  },
  "language_info": {
   "codemirror_mode": {
    "name": "ipython",
    "version": 2
   },
   "file_extension": ".py",
   "mimetype": "text/x-python",
   "name": "python",
   "nbconvert_exporter": "python",
   "pygments_lexer": "ipython2",
   "version": "2.7.6"
  }
 },
 "nbformat": 4,
 "nbformat_minor": 0
}
